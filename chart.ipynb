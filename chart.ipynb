{
 "cells": [
  {
   "cell_type": "code",
   "execution_count": 1,
   "id": "90e3e14c",
   "metadata": {},
   "outputs": [],
   "source": [
    "import altair as alt\n",
    "import pandas as pd"
   ]
  },
  {
   "cell_type": "code",
   "execution_count": 17,
   "id": "10b8eb41",
   "metadata": {},
   "outputs": [
    {
     "data": {
      "text/html": [
       "<div>\n",
       "<style scoped>\n",
       "    .dataframe tbody tr th:only-of-type {\n",
       "        vertical-align: middle;\n",
       "    }\n",
       "\n",
       "    .dataframe tbody tr th {\n",
       "        vertical-align: top;\n",
       "    }\n",
       "\n",
       "    .dataframe thead th {\n",
       "        text-align: right;\n",
       "    }\n",
       "</style>\n",
       "<table border=\"1\" class=\"dataframe\">\n",
       "  <thead>\n",
       "    <tr style=\"text-align: right;\">\n",
       "      <th></th>\n",
       "      <th>decade</th>\n",
       "      <th>count</th>\n",
       "    </tr>\n",
       "  </thead>\n",
       "  <tbody>\n",
       "    <tr>\n",
       "      <th>0</th>\n",
       "      <td>2010</td>\n",
       "      <td>25</td>\n",
       "    </tr>\n",
       "    <tr>\n",
       "      <th>1</th>\n",
       "      <td>2000</td>\n",
       "      <td>4</td>\n",
       "    </tr>\n",
       "    <tr>\n",
       "      <th>2</th>\n",
       "      <td>1990</td>\n",
       "      <td>3</td>\n",
       "    </tr>\n",
       "    <tr>\n",
       "      <th>3</th>\n",
       "      <td>2020</td>\n",
       "      <td>2</td>\n",
       "    </tr>\n",
       "    <tr>\n",
       "      <th>4</th>\n",
       "      <td>1890</td>\n",
       "      <td>1</td>\n",
       "    </tr>\n",
       "  </tbody>\n",
       "</table>\n",
       "</div>"
      ],
      "text/plain": [
       "   decade  count\n",
       "0    2010     25\n",
       "1    2000      4\n",
       "2    1990      3\n",
       "3    2020      2\n",
       "4    1890      1"
      ]
     },
     "execution_count": 17,
     "metadata": {},
     "output_type": "execute_result"
    }
   ],
   "source": [
    "\n",
    "\n",
    "data = pd.read_csv('PROCESSED_DATA.csv')\n",
    "\n",
    "data['decade'] = (data['year'] // 10) * 10\n",
    "\n",
    "decade_counts = data['decade'].value_counts().reset_index()\n",
    "decade_counts\n"
   ]
  },
  {
   "cell_type": "code",
   "execution_count": 42,
   "id": "32480919",
   "metadata": {},
   "outputs": [],
   "source": [
    "\n",
    "\n",
    "pie_chart = alt.Chart(decade_counts).mark_arc().encode(\n",
    "    alt.Theta('count',type='quantitative'),\n",
    "    alt.Color('decade',type='nominal')\n",
    ")\n",
    "pie_chart.save('decade_releases.png')"
   ]
  },
  {
   "cell_type": "code",
   "execution_count": 28,
   "id": "683dc09f",
   "metadata": {},
   "outputs": [
    {
     "data": {
      "text/html": [
       "<div>\n",
       "<style scoped>\n",
       "    .dataframe tbody tr th:only-of-type {\n",
       "        vertical-align: middle;\n",
       "    }\n",
       "\n",
       "    .dataframe tbody tr th {\n",
       "        vertical-align: top;\n",
       "    }\n",
       "\n",
       "    .dataframe thead th {\n",
       "        text-align: right;\n",
       "    }\n",
       "</style>\n",
       "<table border=\"1\" class=\"dataframe\">\n",
       "  <thead>\n",
       "    <tr style=\"text-align: right;\">\n",
       "      <th></th>\n",
       "      <th>author_name</th>\n",
       "      <th>ratings</th>\n",
       "    </tr>\n",
       "  </thead>\n",
       "  <tbody>\n",
       "    <tr>\n",
       "      <th>32</th>\n",
       "      <td>Thomas Hardy</td>\n",
       "      <td>264435</td>\n",
       "    </tr>\n",
       "    <tr>\n",
       "      <th>24</th>\n",
       "      <td>Patricia Briggs</td>\n",
       "      <td>168943</td>\n",
       "    </tr>\n",
       "    <tr>\n",
       "      <th>11</th>\n",
       "      <td>Jojo Moyes</td>\n",
       "      <td>153951</td>\n",
       "    </tr>\n",
       "    <tr>\n",
       "      <th>1</th>\n",
       "      <td>Charlaine Harris</td>\n",
       "      <td>122829</td>\n",
       "    </tr>\n",
       "    <tr>\n",
       "      <th>31</th>\n",
       "      <td>Tahereh Mafi</td>\n",
       "      <td>116386</td>\n",
       "    </tr>\n",
       "    <tr>\n",
       "      <th>14</th>\n",
       "      <td>Julie Kagawa</td>\n",
       "      <td>104266</td>\n",
       "    </tr>\n",
       "    <tr>\n",
       "      <th>28</th>\n",
       "      <td>Stephanie Garber</td>\n",
       "      <td>96804</td>\n",
       "    </tr>\n",
       "    <tr>\n",
       "      <th>6</th>\n",
       "      <td>Ilona Andrews</td>\n",
       "      <td>70852</td>\n",
       "    </tr>\n",
       "    <tr>\n",
       "      <th>15</th>\n",
       "      <td>K. Bromberg</td>\n",
       "      <td>59370</td>\n",
       "    </tr>\n",
       "    <tr>\n",
       "      <th>25</th>\n",
       "      <td>Penelope Douglas</td>\n",
       "      <td>58200</td>\n",
       "    </tr>\n",
       "  </tbody>\n",
       "</table>\n",
       "</div>"
      ],
      "text/plain": [
       "         author_name  ratings\n",
       "32      Thomas Hardy   264435\n",
       "24   Patricia Briggs   168943\n",
       "11        Jojo Moyes   153951\n",
       "1   Charlaine Harris   122829\n",
       "31      Tahereh Mafi   116386\n",
       "14      Julie Kagawa   104266\n",
       "28  Stephanie Garber    96804\n",
       "6      Ilona Andrews    70852\n",
       "15       K. Bromberg    59370\n",
       "25  Penelope Douglas    58200"
      ]
     },
     "execution_count": 28,
     "metadata": {},
     "output_type": "execute_result"
    }
   ],
   "source": [
    "author_ratings = data.groupby('author_name')['ratings'].sum().reset_index()\n",
    "\n",
    "author_ratings = author_ratings.sort_values('ratings', ascending=False).head(10)\n",
    "author_ratings\n"
   ]
  },
  {
   "cell_type": "code",
   "execution_count": 43,
   "id": "45f936fd",
   "metadata": {},
   "outputs": [],
   "source": [
    "top_authors_chart = alt.Chart(author_ratings).mark_bar(color='skyblue',).encode(\n",
    "    alt.X(\"author_name\").sort('-y'),\n",
    "    alt.Y(\"ratings\"),\n",
    ")\n",
    "top_authors_chart.save('top_authors.png')"
   ]
  }
 ],
 "metadata": {
  "kernelspec": {
   "display_name": ".venv",
   "language": "python",
   "name": "python3"
  },
  "language_info": {
   "codemirror_mode": {
    "name": "ipython",
    "version": 3
   },
   "file_extension": ".py",
   "mimetype": "text/x-python",
   "name": "python",
   "nbconvert_exporter": "python",
   "pygments_lexer": "ipython3",
   "version": "3.9.6"
  }
 },
 "nbformat": 4,
 "nbformat_minor": 5
}
